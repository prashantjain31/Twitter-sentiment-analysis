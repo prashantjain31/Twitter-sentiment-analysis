{
 "cells": [
  {
   "cell_type": "markdown",
   "id": "f64d2432-1ad2-4883-8e0d-09234cfb55f1",
   "metadata": {},
   "source": [
    "# Twitter Sentiment Analysis with NLTK\n",
    "\n",
    "Now that we have a sentiment analysis module, we can apply it to just about any text, but preferrably short bits of text, like from Twitter!\n"
   ]
  },
  {
   "cell_type": "code",
   "execution_count": null,
   "id": "6af722f5-7fb9-47d8-b5f8-9996b8d48feb",
   "metadata": {},
   "outputs": [],
   "source": [
    "from tweepy import Stream\n",
    "from tweepy import OAuthHandler\n",
    "from tweepy.streaming import StreamListener\n",
    "\n",
    "\n",
    "#consumer key, consumer secret, access token, access secret.\n",
    "ckey=\"fsdfasdfsafsffa\"\n",
    "csecret=\"asdfsadfsadfsadf\"\n",
    "atoken=\"asdf-aassdfs\"\n",
    "asecret=\"asdfsadfsdafsdafs\"\n",
    "\n",
    "class listener(StreamListener):\n",
    "\n",
    "    def on_data(self, data):\n",
    "        print(data)\n",
    "        return(True)\n",
    "\n",
    "    def on_error(self, status):\n",
    "        print status\n",
    "\n",
    "auth = OAuthHandler(ckey, csecret)\n",
    "auth.set_access_token(atoken, asecret)\n",
    "\n",
    "twitterStream = Stream(auth, listener())\n",
    "twitterStream.filter(track=[\"car\"])\n"
   ]
  },
  {
   "cell_type": "markdown",
   "id": "2a36bfb5-2d59-455c-9031-d8e8046a92e7",
   "metadata": {},
   "source": [
    "That is enough to print out all of the data for the streaming live tweets that contain the term \"car.\" We can use the json module to load the data var with json.loads(data), and then we can reference the tweet specifically with:"
   ]
  },
  {
   "cell_type": "code",
   "execution_count": null,
   "id": "ef8ed2f9-b41b-4f0c-9df3-839187e58d6c",
   "metadata": {},
   "outputs": [],
   "source": [
    "tweet = all_data[\"text\"]"
   ]
  },
  {
   "cell_type": "markdown",
   "id": "3066ed4c-afb0-4e31-98c5-25fd5abac2e8",
   "metadata": {},
   "source": [
    "Now that we have a tweet, we can easily pass this through our sentiment_mod module!"
   ]
  },
  {
   "cell_type": "code",
   "execution_count": null,
   "id": "e7f03de1-ddbf-4c26-9542-0ce5f220eed4",
   "metadata": {},
   "outputs": [],
   "source": [
    "from tweepy import Stream\n",
    "from tweepy import OAuthHandler\n",
    "from tweepy.streaming import StreamListener\n",
    "import json\n",
    "import sentiment_mod as s\n",
    "\n",
    "#consumer key, consumer secret, access token, access secret.\n",
    "ckey=\"asdfsafsafsaf\"\n",
    "csecret=\"asdfasdfsadfsa\"\n",
    "atoken=\"asdfsadfsafsaf-asdfsaf\"\n",
    "asecret=\"asdfsadfsadfsadfsadfsad\"\n",
    "\n",
    "from twitterapistuff import *\n",
    "\n",
    "class listener(StreamListener):\n",
    "\n",
    "    def on_data(self, data):\n",
    "\n",
    "\t\tall_data = json.loads(data)\n",
    "\n",
    "\t\ttweet = all_data[\"text\"]\n",
    "\t\tsentiment_value, confidence = s.sentiment(tweet)\n",
    "\t\tprint(tweet, sentiment_value, confidence)\n",
    "\n",
    "\t\tif confidence*100 >= 80:\n",
    "\t\t\toutput = open(\"twitter-out.txt\",\"a\")\n",
    "\t\t\toutput.write(sentiment_value)\n",
    "\t\t\toutput.write('\\n')\n",
    "\t\t\toutput.close()\n",
    "\n",
    "\t\treturn True\n",
    "\n",
    "    def on_error(self, status):\n",
    "        print(status)\n",
    "\n",
    "auth = OAuthHandler(ckey, csecret)\n",
    "auth.set_access_token(atoken, asecret)\n",
    "\n",
    "twitterStream = Stream(auth, listener())\n",
    "twitterStream.filter(track=[\"happy\"])\n"
   ]
  },
  {
   "cell_type": "markdown",
   "id": "8639f91b-da4a-4675-bfac-8085e1deea81",
   "metadata": {},
   "source": [
    "Along with that, we're also saving the results to an output file, twitter-out.txt.\n",
    "\n",
    "Next, what data analysis would be complete without graphs? Let's combine yet another tutorial with this one to make a live streaming graph from the sentiment analysis on the Twitter API!"
   ]
  }
 ],
 "metadata": {
  "kernelspec": {
   "display_name": "Python 3 (ipykernel)",
   "language": "python",
   "name": "python3"
  },
  "language_info": {
   "codemirror_mode": {
    "name": "ipython",
    "version": 3
   },
   "file_extension": ".py",
   "mimetype": "text/x-python",
   "name": "python",
   "nbconvert_exporter": "python",
   "pygments_lexer": "ipython3",
   "version": "3.9.5"
  }
 },
 "nbformat": 4,
 "nbformat_minor": 5
}
